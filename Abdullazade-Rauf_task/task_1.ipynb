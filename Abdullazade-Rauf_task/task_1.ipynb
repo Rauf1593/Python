{
 "cells": [
  {
   "cell_type": "markdown",
   "id": "faccfec7",
   "metadata": {},
   "source": [
    " #  <center> YELO BANK TECHNICAL SKILL TEST 🔔"
   ]
  },
  {
   "cell_type": "markdown",
   "id": "54ef048c",
   "metadata": {},
   "source": [
    "# Task 1 \n",
    "###### (Use loan_data.xlsx  file for Task 1) 📌\n"
   ]
  },
  {
   "cell_type": "markdown",
   "id": "2cf30f11",
   "metadata": {},
   "source": [
    "\n",
    "\n",
    "Title | Definition\n",
    "---|---------\n",
    "`CUSTOMER_NO`| id of costumer\n",
    "`BEGIN_DATE` |  open date of loan\n",
    "`END_DATE` | close date of loan  \n",
    "`CLOSE_DATE` | actual close date of loan\n",
    "`BRANCH_NAME` | name of product\n",
    "`INTEREST_RATE` | loan interest rate(annual)\n",
    "`BIRTH_DATE` |  birth date of customer\n",
    "`PRODUCT_NAME` | name of product\n",
    "`AMOUNT` |  given amount of loan\n",
    "`REMAIN_AMOUNT` | customer's debt to bank\n",
    "`CATEGORY` |  cutomer category (GB -good bank / BB- bad bank) \n",
    "`GSM_NO` |  Mobile Phone \n",
    "\n"
   ]
  },
  {
   "cell_type": "markdown",
   "id": "f4161814",
   "metadata": {},
   "source": [
    " ## <center> Customer Segmentation"
   ]
  },
  {
   "cell_type": "markdown",
   "id": "be35a259",
   "metadata": {},
   "source": [
    "##  1. Data cleaning & Preparation 🧹\n",
    "### Tips for data cleaning : \n",
    " ##### Pay attention  ❗\n",
    "- Data types\n",
    "- Null values\n",
    "- Extreme values\n",
    "- Duplicates\n",
    "- Correct telephone number format (ex.: 994752000000 , numbers should be start with 99475, 99476, 99433 )\n",
    "\n",
    "## 2. EDA ( Exploratory Data Analysis) 📈\n",
    "### Tips :\n",
    "1. Yearly and monthly sales amount and count (using pivot_table func.)\n",
    "2. Active & non-active customer distribution by product names\n",
    "3. Your approach 🙂 (mandatory)\n",
    "\n",
    "## 3. Segmentation for loan offer  🙋🏻🙋🏻‍♂️\n",
    "##### Only these customers are able to take loan:\n",
    "\n",
    "1. Age between 25 and 64\n",
    "2. Category not in \"BB\"\n",
    "3. Branch name not like \"UPA\"\n",
    "4. Don't have active loan or remain amount < 60 %\n",
    "\n",
    "### After defining your segment follow this steps :\n",
    "\n",
    "- Split your segment into Target and Test customers\n",
    "- Test clients should be 10 % of segment\n",
    "- Use stratified sampling method for choosing test clients\n",
    "- Show them as by creating a new column named as \"TYPE\"\n",
    "\n",
    "\n",
    "\n",
    "\n"
   ]
  },
  {
   "cell_type": "markdown",
   "id": "ec943ede",
   "metadata": {},
   "source": [
    "# STEP 1"
   ]
  },
  {
   "cell_type": "code",
   "execution_count": 2,
   "id": "17426271",
   "metadata": {},
   "outputs": [
    {
     "name": "stderr",
     "output_type": "stream",
     "text": [
      "C:\\Users\\Hp\\AppData\\Local\\Temp\\ipykernel_9760\\862397138.py:8: UserWarning: Parsing dates in DD/MM/YYYY format when dayfirst=False (the default) was specified. This may lead to inconsistently parsed dates! Specify a format to ensure consistent parsing.\n",
      "  df1['BIRTH_DATE'] = pd.to_datetime(df1['BIRTH_DATE'])\n"
     ]
    },
    {
     "data": {
      "text/html": [
       "<div>\n",
       "<style scoped>\n",
       "    .dataframe tbody tr th:only-of-type {\n",
       "        vertical-align: middle;\n",
       "    }\n",
       "\n",
       "    .dataframe tbody tr th {\n",
       "        vertical-align: top;\n",
       "    }\n",
       "\n",
       "    .dataframe thead th {\n",
       "        text-align: right;\n",
       "    }\n",
       "</style>\n",
       "<table border=\"1\" class=\"dataframe\">\n",
       "  <thead>\n",
       "    <tr style=\"text-align: right;\">\n",
       "      <th></th>\n",
       "      <th>CUSTOMER_NO</th>\n",
       "      <th>BIRTH_DATE</th>\n",
       "      <th>BEGIN_DATE</th>\n",
       "      <th>END_DATE</th>\n",
       "      <th>CLOSE_DATE</th>\n",
       "      <th>BRANCH_NAME</th>\n",
       "      <th>INTEREST_RATE</th>\n",
       "      <th>PRODUCT_NAME</th>\n",
       "      <th>AMOUNT</th>\n",
       "      <th>REMAIN_AMOUNT</th>\n",
       "      <th>CATEGORY</th>\n",
       "      <th>GSM_NO</th>\n",
       "    </tr>\n",
       "  </thead>\n",
       "  <tbody>\n",
       "    <tr>\n",
       "      <th>0</th>\n",
       "      <td>462598</td>\n",
       "      <td>1984-03-20</td>\n",
       "      <td>2021-05-04</td>\n",
       "      <td>2024-05-04</td>\n",
       "      <td>NaT</td>\n",
       "      <td>11S</td>\n",
       "      <td>19.9</td>\n",
       "      <td>İstehlak kredit (Cash)</td>\n",
       "      <td>8000.0</td>\n",
       "      <td>2601.80</td>\n",
       "      <td>GB</td>\n",
       "      <td>994758000022</td>\n",
       "    </tr>\n",
       "    <tr>\n",
       "      <th>1</th>\n",
       "      <td>469638</td>\n",
       "      <td>1977-01-12</td>\n",
       "      <td>2021-06-14</td>\n",
       "      <td>2025-03-14</td>\n",
       "      <td>2023-09-29</td>\n",
       "      <td>11S</td>\n",
       "      <td>19.9</td>\n",
       "      <td>İstehlak kredit (Cash)</td>\n",
       "      <td>9000.0</td>\n",
       "      <td>0.00</td>\n",
       "      <td>GB</td>\n",
       "      <td>994758000023</td>\n",
       "    </tr>\n",
       "    <tr>\n",
       "      <th>2</th>\n",
       "      <td>489282</td>\n",
       "      <td>1997-09-18</td>\n",
       "      <td>2021-09-01</td>\n",
       "      <td>2024-09-01</td>\n",
       "      <td>2022-03-16</td>\n",
       "      <td>11S</td>\n",
       "      <td>18.3</td>\n",
       "      <td>İstehlak kredit (Cash)</td>\n",
       "      <td>7000.0</td>\n",
       "      <td>0.00</td>\n",
       "      <td>GB</td>\n",
       "      <td>994758000025</td>\n",
       "    </tr>\n",
       "    <tr>\n",
       "      <th>3</th>\n",
       "      <td>490443</td>\n",
       "      <td>1987-03-01</td>\n",
       "      <td>2021-09-06</td>\n",
       "      <td>2024-09-06</td>\n",
       "      <td>2023-05-18</td>\n",
       "      <td>11S</td>\n",
       "      <td>20.0</td>\n",
       "      <td>İstehlak kredit (Cash)</td>\n",
       "      <td>5000.0</td>\n",
       "      <td>0.00</td>\n",
       "      <td>GB</td>\n",
       "      <td>994758000026</td>\n",
       "    </tr>\n",
       "    <tr>\n",
       "      <th>4</th>\n",
       "      <td>331469</td>\n",
       "      <td>1989-09-15</td>\n",
       "      <td>2021-09-10</td>\n",
       "      <td>2024-09-10</td>\n",
       "      <td>2021-12-06</td>\n",
       "      <td>11S</td>\n",
       "      <td>17.0</td>\n",
       "      <td>İstehlak kredit (Cash)</td>\n",
       "      <td>24000.0</td>\n",
       "      <td>0.00</td>\n",
       "      <td>GB</td>\n",
       "      <td>994758000027</td>\n",
       "    </tr>\n",
       "    <tr>\n",
       "      <th>...</th>\n",
       "      <td>...</td>\n",
       "      <td>...</td>\n",
       "      <td>...</td>\n",
       "      <td>...</td>\n",
       "      <td>...</td>\n",
       "      <td>...</td>\n",
       "      <td>...</td>\n",
       "      <td>...</td>\n",
       "      <td>...</td>\n",
       "      <td>...</td>\n",
       "      <td>...</td>\n",
       "      <td>...</td>\n",
       "    </tr>\n",
       "    <tr>\n",
       "      <th>20069</th>\n",
       "      <td>522540</td>\n",
       "      <td>1970-06-06</td>\n",
       "      <td>2021-12-10</td>\n",
       "      <td>2024-12-10</td>\n",
       "      <td>2022-08-30</td>\n",
       "      <td>O</td>\n",
       "      <td>18.0</td>\n",
       "      <td>İstehlak kredit (Cash)</td>\n",
       "      <td>14200.0</td>\n",
       "      <td>0.00</td>\n",
       "      <td>GB</td>\n",
       "      <td>None</td>\n",
       "    </tr>\n",
       "    <tr>\n",
       "      <th>20070</th>\n",
       "      <td>474877</td>\n",
       "      <td>1988-01-23</td>\n",
       "      <td>2023-09-05</td>\n",
       "      <td>2026-09-05</td>\n",
       "      <td>NaT</td>\n",
       "      <td>O</td>\n",
       "      <td>13.9</td>\n",
       "      <td>İstehlak kredit - Online</td>\n",
       "      <td>17000.0</td>\n",
       "      <td>15995.80</td>\n",
       "      <td>GB</td>\n",
       "      <td>994767003628</td>\n",
       "    </tr>\n",
       "    <tr>\n",
       "      <th>20071</th>\n",
       "      <td>812387</td>\n",
       "      <td>1998-01-18</td>\n",
       "      <td>2023-12-04</td>\n",
       "      <td>2025-12-04</td>\n",
       "      <td>NaT</td>\n",
       "      <td>O</td>\n",
       "      <td>12.9</td>\n",
       "      <td>İstehlak kredit - Online</td>\n",
       "      <td>10000.0</td>\n",
       "      <td>9678.58</td>\n",
       "      <td>GB</td>\n",
       "      <td>None</td>\n",
       "    </tr>\n",
       "    <tr>\n",
       "      <th>20072</th>\n",
       "      <td>202641</td>\n",
       "      <td>1959-06-24</td>\n",
       "      <td>2023-08-14</td>\n",
       "      <td>2024-07-14</td>\n",
       "      <td>NaT</td>\n",
       "      <td>O</td>\n",
       "      <td>13.5</td>\n",
       "      <td>Əmanətçi krediti</td>\n",
       "      <td>1500.0</td>\n",
       "      <td>810.51</td>\n",
       "      <td>GB</td>\n",
       "      <td>None</td>\n",
       "    </tr>\n",
       "    <tr>\n",
       "      <th>20073</th>\n",
       "      <td>522302</td>\n",
       "      <td>1989-10-29</td>\n",
       "      <td>2022-02-23</td>\n",
       "      <td>2025-02-23</td>\n",
       "      <td>NaT</td>\n",
       "      <td>O</td>\n",
       "      <td>17.0</td>\n",
       "      <td>İstehlak kredit (Cash)</td>\n",
       "      <td>7800.0</td>\n",
       "      <td>3341.76</td>\n",
       "      <td>GB</td>\n",
       "      <td>None</td>\n",
       "    </tr>\n",
       "  </tbody>\n",
       "</table>\n",
       "<p>20074 rows × 12 columns</p>\n",
       "</div>"
      ],
      "text/plain": [
       "       CUSTOMER_NO BIRTH_DATE BEGIN_DATE   END_DATE CLOSE_DATE BRANCH_NAME  \\\n",
       "0           462598 1984-03-20 2021-05-04 2024-05-04        NaT         11S   \n",
       "1           469638 1977-01-12 2021-06-14 2025-03-14 2023-09-29         11S   \n",
       "2           489282 1997-09-18 2021-09-01 2024-09-01 2022-03-16         11S   \n",
       "3           490443 1987-03-01 2021-09-06 2024-09-06 2023-05-18         11S   \n",
       "4           331469 1989-09-15 2021-09-10 2024-09-10 2021-12-06         11S   \n",
       "...            ...        ...        ...        ...        ...         ...   \n",
       "20069       522540 1970-06-06 2021-12-10 2024-12-10 2022-08-30           O   \n",
       "20070       474877 1988-01-23 2023-09-05 2026-09-05        NaT           O   \n",
       "20071       812387 1998-01-18 2023-12-04 2025-12-04        NaT           O   \n",
       "20072       202641 1959-06-24 2023-08-14 2024-07-14        NaT           O   \n",
       "20073       522302 1989-10-29 2022-02-23 2025-02-23        NaT           O   \n",
       "\n",
       "       INTEREST_RATE              PRODUCT_NAME   AMOUNT  REMAIN_AMOUNT  \\\n",
       "0               19.9    İstehlak kredit (Cash)   8000.0        2601.80   \n",
       "1               19.9    İstehlak kredit (Cash)   9000.0           0.00   \n",
       "2               18.3    İstehlak kredit (Cash)   7000.0           0.00   \n",
       "3               20.0    İstehlak kredit (Cash)   5000.0           0.00   \n",
       "4               17.0    İstehlak kredit (Cash)  24000.0           0.00   \n",
       "...              ...                       ...      ...            ...   \n",
       "20069           18.0    İstehlak kredit (Cash)  14200.0           0.00   \n",
       "20070           13.9  İstehlak kredit - Online  17000.0       15995.80   \n",
       "20071           12.9  İstehlak kredit - Online  10000.0        9678.58   \n",
       "20072           13.5         Əmanətçi krediti    1500.0         810.51   \n",
       "20073           17.0    İstehlak kredit (Cash)   7800.0        3341.76   \n",
       "\n",
       "      CATEGORY        GSM_NO  \n",
       "0           GB  994758000022  \n",
       "1           GB  994758000023  \n",
       "2           GB  994758000025  \n",
       "3           GB  994758000026  \n",
       "4           GB  994758000027  \n",
       "...        ...           ...  \n",
       "20069       GB          None  \n",
       "20070       GB  994767003628  \n",
       "20071       GB          None  \n",
       "20072       GB          None  \n",
       "20073       GB          None  \n",
       "\n",
       "[20074 rows x 12 columns]"
      ]
     },
     "execution_count": 2,
     "metadata": {},
     "output_type": "execute_result"
    }
   ],
   "source": [
    "import pandas as pd\n",
    "from datetime import datetime\n",
    "\n",
    "df1 = pd.read_excel('loan_data.xlsx')\n",
    "\n",
    "df1['END_DATE'] = pd.to_datetime(df1['END_DATE'])\n",
    "df1['BEGIN_DATE'] = pd.to_datetime(df1['BEGIN_DATE'])\n",
    "df1['BIRTH_DATE'] = pd.to_datetime(df1['BIRTH_DATE'])\n",
    "df1['GSM_NO'] = df1['GSM_NO'].astype(str)\n",
    "\n",
    "filt1 = df1[~df1['GSM_NO'].str.startswith(('99475', '99476', '99433'))]\n",
    "df1.loc[filt1.index, 'GSM_NO'] = None\n",
    "filt2 = df1[(df1['GSM_NO'].str.len() != 12) & (df1['GSM_NO'].notnull())]\n",
    "df1.loc[filt2.index, 'GSM_NO'] = None #Göstərilmiş nömrələrdən kənar ifadələri sıfırlamaq\n",
    "\n",
    "gsm_map = df1.groupby('CUSTOMER_NO')['GSM_NO'].last().to_dict()\n",
    "df1['GSM_NO'] = df1['CUSTOMER_NO'].map(gsm_map)  #Eyni müştərilər var ki, bir neçə məhsulu var. Nömrələri bəzilərində yoxdur.Bərpa\n",
    "\n",
    "curr_date = datetime.now()\n",
    "df1.loc[(df1['REMAIN_AMOUNT'] == 0) & (df1['CLOSE_DATE'].isna()), 'CLOSE_DATE'] = curr_date #Bəzi borclar ödənib, lakin baglanma vaxtlari qeyd olunmayib. Baglanma vaxtini sysdate olaraq ayarladim.\n",
    "df1['CLOSE_DATE'] = pd.to_datetime(df1['CLOSE_DATE'], errors='coerce')\n",
    "df1\n"
   ]
  },
  {
   "cell_type": "markdown",
   "id": "a019cc3f",
   "metadata": {},
   "source": [
    "# STEP 2\n",
    "### Sual 1\n",
    "Illik və aylıq satışların pivot table ilə verilməsi"
   ]
  },
  {
   "cell_type": "code",
   "execution_count": 3,
   "id": "36866e00",
   "metadata": {},
   "outputs": [
    {
     "data": {
      "text/html": [
       "<div>\n",
       "<style scoped>\n",
       "    .dataframe tbody tr th:only-of-type {\n",
       "        vertical-align: middle;\n",
       "    }\n",
       "\n",
       "    .dataframe tbody tr th {\n",
       "        vertical-align: top;\n",
       "    }\n",
       "\n",
       "    .dataframe thead th {\n",
       "        text-align: right;\n",
       "    }\n",
       "</style>\n",
       "<table border=\"1\" class=\"dataframe\">\n",
       "  <thead>\n",
       "    <tr style=\"text-align: right;\">\n",
       "      <th></th>\n",
       "      <th>size</th>\n",
       "      <th>sum</th>\n",
       "    </tr>\n",
       "    <tr>\n",
       "      <th>Year</th>\n",
       "      <th></th>\n",
       "      <th></th>\n",
       "    </tr>\n",
       "  </thead>\n",
       "  <tbody>\n",
       "    <tr>\n",
       "      <th>2021</th>\n",
       "      <td>3098</td>\n",
       "      <td>32825320.0</td>\n",
       "    </tr>\n",
       "    <tr>\n",
       "      <th>2022</th>\n",
       "      <td>6837</td>\n",
       "      <td>64071831.0</td>\n",
       "    </tr>\n",
       "    <tr>\n",
       "      <th>2023</th>\n",
       "      <td>10139</td>\n",
       "      <td>102604883.4</td>\n",
       "    </tr>\n",
       "  </tbody>\n",
       "</table>\n",
       "</div>"
      ],
      "text/plain": [
       "       size          sum\n",
       "Year                    \n",
       "2021   3098   32825320.0\n",
       "2022   6837   64071831.0\n",
       "2023  10139  102604883.4"
      ]
     },
     "execution_count": 3,
     "metadata": {},
     "output_type": "execute_result"
    }
   ],
   "source": [
    "import numpy as np\n",
    "df1['BEGIN_DATE'] = pd.to_datetime(df1['BEGIN_DATE'])\n",
    "\n",
    "df1['Year'] = df1['BEGIN_DATE'].dt.year\n",
    "df1['Month'] = df1['BEGIN_DATE'].dt.month\n",
    "\n",
    "yearly_sales = pd.pivot_table(df1, values='AMOUNT', index='Year', aggfunc={'AMOUNT': [np.sum, np.size]}, fill_value=0)\n",
    "monthly_sales = pd.pivot_table(df1, values='AMOUNT', index=['Year', 'Month'], aggfunc={'AMOUNT': [np.sum, np.size]}, fill_value=0)\n",
    "\n",
    "yearly = pd.DataFrame(yearly_sales)\n",
    "monthly = pd.DataFrame(monthly_sales)\n",
    "\n",
    "yearly"
   ]
  },
  {
   "cell_type": "markdown",
   "id": "527e94b2",
   "metadata": {},
   "source": [
    "### Sual 2\n",
    "Məhsullara görə Aktiv və Aktiv olmayan müştərilərin dağılımı\n"
   ]
  },
  {
   "cell_type": "code",
   "execution_count": 4,
   "id": "6aa261c4",
   "metadata": {},
   "outputs": [
    {
     "data": {
      "image/png": "[encoded data removed]",
      "text/plain": [
       "<Figure size 640x480 with 1 Axes>"
      ]
     },
     "metadata": {},
     "output_type": "display_data"
    }
   ],
   "source": [
    "import matplotlib.pyplot as plt\n",
    "\n",
    "\n",
    "df1['STATUS'] = np.where(df1['CLOSE_DATE'].isnull(),'ACTIVE','NON-ACTIVE')\n",
    "c_count = df1.groupby(['PRODUCT_NAME', 'STATUS']).size().unstack(fill_value=0)\n",
    "t_count = c_count.sum(axis=1).sort_values(ascending=True)\n",
    "\n",
    "c_count = c_count.reindex(index=t_count.index)\n",
    "c_count.plot(kind='barh', y=['ACTIVE', 'NON-ACTIVE'], stacked=True,color=['#87CEEB','red'])\n",
    "\n",
    "plt.title('Məhsula görə Aktiv və Passiv Müştəri Sayı')\n",
    "plt.xlabel('Müştəri Sayı')\n",
    "plt.ylabel('Məhsul')\n",
    "plt.legend(title='Status', bbox_to_anchor=(1, 1))\n",
    "\n",
    "plt.show()\n"
   ]
  },
  {
   "cell_type": "markdown",
   "id": "e6907ef8",
   "metadata": {},
   "source": [
    "### Sual 3\n"
   ]
  },
  {
   "cell_type": "code",
   "execution_count": 5,
   "id": "a05b1ba3",
   "metadata": {},
   "outputs": [
    {
     "data": {
      "image/png": "[encoded data removed]",
      "text/plain": [
       "<Figure size 640x480 with 1 Axes>"
      ]
     },
     "metadata": {},
     "output_type": "display_data"
    }
   ],
   "source": [
    "\n",
    "df1['AGE'] = curr_date.year - df1['BIRTH_DATE'].dt.year\n",
    "\n",
    "a_group = pd.cut(df1['AGE'], bins=range(0, df1['AGE'].max() + 5, 5))\n",
    "avg_a = df1.groupby(a_group)['AMOUNT'].count()\n",
    "\n",
    "avg_a.plot(kind='bar')\n",
    "\n",
    "plt.title('Yaş Qruplarına Görə Ortalama Məhsul Dəyəri')\n",
    "plt.xlabel('Yaş qrupları')\n",
    "plt.ylabel('Ortalama Məhsul Dəyəri')\n",
    "plt.show()"
   ]
  },
  {
   "cell_type": "code",
   "execution_count": null,
   "id": "b4dcaa46",
   "metadata": {},
   "outputs": [],
   "source": [
    "df1.to_excel('clean.xlsx')"
   ]
  },
  {
   "cell_type": "markdown",
   "id": "b3c5b442",
   "metadata": {},
   "source": [
    "# <center> Task 2"
   ]
  },
  {
   "cell_type": "markdown",
   "id": "0a325cad",
   "metadata": {},
   "source": [
    "#### SQL task  ==> check attached excel file "
   ]
  },
  {
   "cell_type": "markdown",
   "id": "640f5c10",
   "metadata": {},
   "source": [
    "# <center> Task 3"
   ]
  },
  {
   "cell_type": "markdown",
   "id": "ba3469d8",
   "metadata": {},
   "source": [
    "## Insight Finding 📝"
   ]
  },
  {
   "cell_type": "markdown",
   "id": "877a9080",
   "metadata": {},
   "source": [
    "Analyze and visualize data and present your findings (preferably PPT)"
   ]
  },
  {
   "cell_type": "markdown",
   "id": "ae723b50",
   "metadata": {},
   "source": [
    "Prepare the business proposal using data set provided in PYTHON task. Final presentation need to include following insights:\n",
    "\n",
    "\n",
    "1.\tCustomer Segmentations and their profile (Exp. Customer between age 25-30 majorly set to require loans between X-Y AZN with Z month period)\n",
    "2.\tTop 3 customer segments which can increase sales if targeted properly. (Exp. Students can be targeted during back to school period as they are not targeted properly and have less risk based on data)\n",
    "3.\tThe new bank product to increase the sales and cover customers need. ( Exp. Students credit X AZN with Y period can be attractive and cover majority of customer base.)\n"
   ]
  },
  {
   "cell_type": "markdown",
   "id": "a3a7bff1",
   "metadata": {},
   "source": [
    "###### Note: Business proposal need to be part of business story telling within presentation."
   ]
  },
  {
   "cell_type": "markdown",
   "id": "b6f6c6a5",
   "metadata": {},
   "source": [
    "### <center> GOOD LUCK!"
   ]
  }
 ],
 "metadata": {
  "kernelspec": {
   "display_name": "Python 3 (ipykernel)",
   "language": "python",
   "name": "python3"
  },
  "language_info": {
   "codemirror_mode": {
    "name": "ipython",
    "version": 3
   },
   "file_extension": ".py",
   "mimetype": "text/x-python",
   "name": "python",
   "nbconvert_exporter": "python",
   "pygments_lexer": "ipython3",
   "version": "3.11.4"
  }
 },
 "nbformat": 4,
 "nbformat_minor": 5
}
